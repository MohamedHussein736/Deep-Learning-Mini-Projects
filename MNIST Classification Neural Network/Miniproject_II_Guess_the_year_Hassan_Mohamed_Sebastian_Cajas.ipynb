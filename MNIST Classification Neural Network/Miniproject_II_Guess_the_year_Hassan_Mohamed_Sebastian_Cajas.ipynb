{
 "cells": [
  {
   "cell_type": "markdown",
   "metadata": {
    "id": "jsNWaBuh3CzD"
   },
   "source": [
    "## Miniproject II, Guess the year !"
   ]
  },
  {
   "cell_type": "markdown",
   "metadata": {
    "id": "kzLUQfLf3CzG"
   },
   "source": [
    "### Import the Required Libraries"
   ]
  },
  {
   "cell_type": "code",
   "execution_count": null,
   "metadata": {
    "colab": {
     "base_uri": "https://localhost:8080/"
    },
    "id": "GCnFkMZg3CzI",
    "outputId": "2bcd8a5b-cc02-4e61-8578-bf523795564c"
   },
   "outputs": [
    {
     "name": "stdout",
     "output_type": "stream",
     "text": [
      "Fri Apr 23 00:20:26 2021       \n",
      "+-----------------------------------------------------------------------------+\n",
      "| NVIDIA-SMI 465.19.01    Driver Version: 460.32.03    CUDA Version: 11.2     |\n",
      "|-------------------------------+----------------------+----------------------+\n",
      "| GPU  Name        Persistence-M| Bus-Id        Disp.A | Volatile Uncorr. ECC |\n",
      "| Fan  Temp  Perf  Pwr:Usage/Cap|         Memory-Usage | GPU-Util  Compute M. |\n",
      "|                               |                      |               MIG M. |\n",
      "|===============================+======================+======================|\n",
      "|   0  Tesla T4            Off  | 00000000:00:04.0 Off |                    0 |\n",
      "| N/A   39C    P8     9W /  70W |      0MiB / 15109MiB |      0%      Default |\n",
      "|                               |                      |                  N/A |\n",
      "+-------------------------------+----------------------+----------------------+\n",
      "                                                                               \n",
      "+-----------------------------------------------------------------------------+\n",
      "| Processes:                                                                  |\n",
      "|  GPU   GI   CI        PID   Type   Process name                  GPU Memory |\n",
      "|        ID   ID                                                   Usage      |\n",
      "|=============================================================================|\n",
      "|  No running processes found                                                 |\n",
      "+-----------------------------------------------------------------------------+\n"
     ]
    }
   ],
   "source": [
    "import pandas as pd\n",
    "import torch as t\n",
    "import torch.nn as nn\n",
    "\n",
    "import matplotlib.pyplot as plt \n",
    "\n",
    "!nvidia-smi\n"
   ]
  },
  {
   "cell_type": "code",
   "execution_count": null,
   "metadata": {
    "colab": {
     "base_uri": "https://localhost:8080/"
    },
    "id": "BxrK_hc24Up7",
    "outputId": "905ee7f6-db0c-4824-ed25-5b80e205fb2e"
   },
   "outputs": [
    {
     "name": "stdout",
     "output_type": "stream",
     "text": [
      "Drive already mounted at /content/drive; to attempt to forcibly remount, call drive.mount(\"/content/drive\", force_remount=True).\n"
     ]
    }
   ],
   "source": [
    "from google.colab import drive\n",
    "drive.mount('/content/drive')"
   ]
  },
  {
   "cell_type": "code",
   "execution_count": null,
   "metadata": {
    "colab": {
     "base_uri": "https://localhost:8080/"
    },
    "id": "nSbLwkgx49Om",
    "outputId": "b0bcb8c0-0267-440d-fadd-23d76975ec9d"
   },
   "outputs": [
    {
     "name": "stdout",
     "output_type": "stream",
     "text": [
      "True\n"
     ]
    }
   ],
   "source": [
    "#Check cuda version\n",
    "is_cuda_available=t.cuda.is_available()\n",
    "print(is_cuda_available)\n",
    "# Generalize cuda for all comands without writing .cuda()\n",
    "device = t.device('cuda:0') \n",
    "t.cuda.set_device(device)"
   ]
  },
  {
   "cell_type": "markdown",
   "metadata": {
    "id": "nktuR5RG3CzK"
   },
   "source": [
    "### Using pandas, load the .csv file."
   ]
  },
  {
   "cell_type": "code",
   "execution_count": null,
   "metadata": {
    "id": "nvLwp7yK3CzL"
   },
   "outputs": [],
   "source": [
    "data = pd.read_csv('/content/drive/MyDrive/Datasets_all/YearPredictionMSD.csv',sep=',')"
   ]
  },
  {
   "cell_type": "markdown",
   "metadata": {
    "id": "8ahh7nxH3CzM"
   },
   "source": [
    "### Verify whether any qualitative data is present in the dataset.\n",
    "\n",
    "**Remarks**\n",
    "\n",
    "- Column 0 corresponds to the years\n",
    "\n",
    "- Column 1 corresponds to the frequencies\n",
    "\n",
    "- Columns 2-91 corresponds to deviations of different songs"
   ]
  },
  {
   "cell_type": "code",
   "execution_count": null,
   "metadata": {
    "colab": {
     "base_uri": "https://localhost:8080/",
     "height": 247
    },
    "id": "XaKd92O03CzN",
    "outputId": "1107223d-104d-4c84-fb8d-b6f75a65fd72"
   },
   "outputs": [
    {
     "data": {
      "text/html": [
       "<div>\n",
       "<style scoped>\n",
       "    .dataframe tbody tr th:only-of-type {\n",
       "        vertical-align: middle;\n",
       "    }\n",
       "\n",
       "    .dataframe tbody tr th {\n",
       "        vertical-align: top;\n",
       "    }\n",
       "\n",
       "    .dataframe thead th {\n",
       "        text-align: right;\n",
       "    }\n",
       "</style>\n",
       "<table border=\"1\" class=\"dataframe\">\n",
       "  <thead>\n",
       "    <tr style=\"text-align: right;\">\n",
       "      <th></th>\n",
       "      <th>0</th>\n",
       "      <th>1</th>\n",
       "      <th>2</th>\n",
       "      <th>3</th>\n",
       "      <th>4</th>\n",
       "      <th>5</th>\n",
       "      <th>6</th>\n",
       "      <th>7</th>\n",
       "      <th>8</th>\n",
       "      <th>9</th>\n",
       "      <th>10</th>\n",
       "      <th>11</th>\n",
       "      <th>12</th>\n",
       "      <th>13</th>\n",
       "      <th>14</th>\n",
       "      <th>15</th>\n",
       "      <th>16</th>\n",
       "      <th>17</th>\n",
       "      <th>18</th>\n",
       "      <th>19</th>\n",
       "      <th>20</th>\n",
       "      <th>21</th>\n",
       "      <th>22</th>\n",
       "      <th>23</th>\n",
       "      <th>24</th>\n",
       "      <th>25</th>\n",
       "      <th>26</th>\n",
       "      <th>27</th>\n",
       "      <th>28</th>\n",
       "      <th>29</th>\n",
       "      <th>30</th>\n",
       "      <th>31</th>\n",
       "      <th>32</th>\n",
       "      <th>33</th>\n",
       "      <th>34</th>\n",
       "      <th>35</th>\n",
       "      <th>36</th>\n",
       "      <th>37</th>\n",
       "      <th>38</th>\n",
       "      <th>39</th>\n",
       "      <th>...</th>\n",
       "      <th>51</th>\n",
       "      <th>52</th>\n",
       "      <th>53</th>\n",
       "      <th>54</th>\n",
       "      <th>55</th>\n",
       "      <th>56</th>\n",
       "      <th>57</th>\n",
       "      <th>58</th>\n",
       "      <th>59</th>\n",
       "      <th>60</th>\n",
       "      <th>61</th>\n",
       "      <th>62</th>\n",
       "      <th>63</th>\n",
       "      <th>64</th>\n",
       "      <th>65</th>\n",
       "      <th>66</th>\n",
       "      <th>67</th>\n",
       "      <th>68</th>\n",
       "      <th>69</th>\n",
       "      <th>70</th>\n",
       "      <th>71</th>\n",
       "      <th>72</th>\n",
       "      <th>73</th>\n",
       "      <th>74</th>\n",
       "      <th>75</th>\n",
       "      <th>76</th>\n",
       "      <th>77</th>\n",
       "      <th>78</th>\n",
       "      <th>79</th>\n",
       "      <th>80</th>\n",
       "      <th>81</th>\n",
       "      <th>82</th>\n",
       "      <th>83</th>\n",
       "      <th>84</th>\n",
       "      <th>85</th>\n",
       "      <th>86</th>\n",
       "      <th>87</th>\n",
       "      <th>88</th>\n",
       "      <th>89</th>\n",
       "      <th>90</th>\n",
       "    </tr>\n",
       "  </thead>\n",
       "  <tbody>\n",
       "    <tr>\n",
       "      <th>0</th>\n",
       "      <td>2001</td>\n",
       "      <td>49.94357</td>\n",
       "      <td>21.47114</td>\n",
       "      <td>73.07750</td>\n",
       "      <td>8.74861</td>\n",
       "      <td>-17.40628</td>\n",
       "      <td>-13.09905</td>\n",
       "      <td>-25.01202</td>\n",
       "      <td>-12.23257</td>\n",
       "      <td>7.83089</td>\n",
       "      <td>-2.46783</td>\n",
       "      <td>3.32136</td>\n",
       "      <td>-2.31521</td>\n",
       "      <td>10.20556</td>\n",
       "      <td>611.10913</td>\n",
       "      <td>951.08960</td>\n",
       "      <td>698.11428</td>\n",
       "      <td>408.98485</td>\n",
       "      <td>383.70912</td>\n",
       "      <td>326.51512</td>\n",
       "      <td>238.11327</td>\n",
       "      <td>251.42414</td>\n",
       "      <td>187.17351</td>\n",
       "      <td>100.42652</td>\n",
       "      <td>179.19498</td>\n",
       "      <td>-8.41558</td>\n",
       "      <td>-317.87038</td>\n",
       "      <td>95.86266</td>\n",
       "      <td>48.10259</td>\n",
       "      <td>-95.66303</td>\n",
       "      <td>-18.06215</td>\n",
       "      <td>1.96984</td>\n",
       "      <td>34.42438</td>\n",
       "      <td>11.72670</td>\n",
       "      <td>1.36790</td>\n",
       "      <td>7.79444</td>\n",
       "      <td>-0.36994</td>\n",
       "      <td>-133.67852</td>\n",
       "      <td>-83.26165</td>\n",
       "      <td>-37.29765</td>\n",
       "      <td>...</td>\n",
       "      <td>-25.38187</td>\n",
       "      <td>-3.90772</td>\n",
       "      <td>13.29258</td>\n",
       "      <td>41.55060</td>\n",
       "      <td>-7.26272</td>\n",
       "      <td>-21.00863</td>\n",
       "      <td>105.50848</td>\n",
       "      <td>64.29856</td>\n",
       "      <td>26.08481</td>\n",
       "      <td>-44.59110</td>\n",
       "      <td>-8.30657</td>\n",
       "      <td>7.93706</td>\n",
       "      <td>-10.73660</td>\n",
       "      <td>-95.44766</td>\n",
       "      <td>-82.03307</td>\n",
       "      <td>-35.59194</td>\n",
       "      <td>4.69525</td>\n",
       "      <td>70.95626</td>\n",
       "      <td>28.09139</td>\n",
       "      <td>6.02015</td>\n",
       "      <td>-37.13767</td>\n",
       "      <td>-41.12450</td>\n",
       "      <td>-8.40816</td>\n",
       "      <td>7.19877</td>\n",
       "      <td>-8.60176</td>\n",
       "      <td>-5.90857</td>\n",
       "      <td>-12.32437</td>\n",
       "      <td>14.68734</td>\n",
       "      <td>-54.32125</td>\n",
       "      <td>40.14786</td>\n",
       "      <td>13.01620</td>\n",
       "      <td>-54.40548</td>\n",
       "      <td>58.99367</td>\n",
       "      <td>15.37344</td>\n",
       "      <td>1.11144</td>\n",
       "      <td>-23.08793</td>\n",
       "      <td>68.40795</td>\n",
       "      <td>-1.82223</td>\n",
       "      <td>-27.46348</td>\n",
       "      <td>2.26327</td>\n",
       "    </tr>\n",
       "    <tr>\n",
       "      <th>1</th>\n",
       "      <td>2001</td>\n",
       "      <td>48.73215</td>\n",
       "      <td>18.42930</td>\n",
       "      <td>70.32679</td>\n",
       "      <td>12.94636</td>\n",
       "      <td>-10.32437</td>\n",
       "      <td>-24.83777</td>\n",
       "      <td>8.76630</td>\n",
       "      <td>-0.92019</td>\n",
       "      <td>18.76548</td>\n",
       "      <td>4.59210</td>\n",
       "      <td>2.21920</td>\n",
       "      <td>0.34006</td>\n",
       "      <td>44.38997</td>\n",
       "      <td>2056.93836</td>\n",
       "      <td>605.40696</td>\n",
       "      <td>457.41175</td>\n",
       "      <td>777.15347</td>\n",
       "      <td>415.64880</td>\n",
       "      <td>746.47775</td>\n",
       "      <td>366.45320</td>\n",
       "      <td>317.82946</td>\n",
       "      <td>273.07917</td>\n",
       "      <td>141.75921</td>\n",
       "      <td>317.35269</td>\n",
       "      <td>19.48271</td>\n",
       "      <td>-65.25496</td>\n",
       "      <td>162.75145</td>\n",
       "      <td>135.00765</td>\n",
       "      <td>-96.28436</td>\n",
       "      <td>-86.87955</td>\n",
       "      <td>17.38087</td>\n",
       "      <td>45.90742</td>\n",
       "      <td>32.49908</td>\n",
       "      <td>-32.85429</td>\n",
       "      <td>45.10830</td>\n",
       "      <td>26.84939</td>\n",
       "      <td>-302.57328</td>\n",
       "      <td>-41.71932</td>\n",
       "      <td>-138.85034</td>\n",
       "      <td>...</td>\n",
       "      <td>28.55107</td>\n",
       "      <td>1.52298</td>\n",
       "      <td>70.99515</td>\n",
       "      <td>-43.63073</td>\n",
       "      <td>-42.55014</td>\n",
       "      <td>129.82848</td>\n",
       "      <td>79.95420</td>\n",
       "      <td>-87.14554</td>\n",
       "      <td>-45.75446</td>\n",
       "      <td>-65.82100</td>\n",
       "      <td>-43.90031</td>\n",
       "      <td>-19.45705</td>\n",
       "      <td>12.59163</td>\n",
       "      <td>-407.64130</td>\n",
       "      <td>42.91189</td>\n",
       "      <td>12.15850</td>\n",
       "      <td>-88.37882</td>\n",
       "      <td>42.25246</td>\n",
       "      <td>46.49209</td>\n",
       "      <td>-30.17747</td>\n",
       "      <td>45.98495</td>\n",
       "      <td>130.47892</td>\n",
       "      <td>13.88281</td>\n",
       "      <td>-4.00055</td>\n",
       "      <td>17.85965</td>\n",
       "      <td>-18.32138</td>\n",
       "      <td>-87.99109</td>\n",
       "      <td>14.37524</td>\n",
       "      <td>-22.70119</td>\n",
       "      <td>-58.81266</td>\n",
       "      <td>5.66812</td>\n",
       "      <td>-19.68073</td>\n",
       "      <td>33.04964</td>\n",
       "      <td>42.87836</td>\n",
       "      <td>-9.90378</td>\n",
       "      <td>-32.22788</td>\n",
       "      <td>70.49388</td>\n",
       "      <td>12.04941</td>\n",
       "      <td>58.43453</td>\n",
       "      <td>26.92061</td>\n",
       "    </tr>\n",
       "    <tr>\n",
       "      <th>2</th>\n",
       "      <td>2001</td>\n",
       "      <td>50.95714</td>\n",
       "      <td>31.85602</td>\n",
       "      <td>55.81851</td>\n",
       "      <td>13.41693</td>\n",
       "      <td>-6.57898</td>\n",
       "      <td>-18.54940</td>\n",
       "      <td>-3.27872</td>\n",
       "      <td>-2.35035</td>\n",
       "      <td>16.07017</td>\n",
       "      <td>1.39518</td>\n",
       "      <td>2.73553</td>\n",
       "      <td>0.82804</td>\n",
       "      <td>7.46586</td>\n",
       "      <td>699.54544</td>\n",
       "      <td>1016.00954</td>\n",
       "      <td>594.06748</td>\n",
       "      <td>355.73663</td>\n",
       "      <td>507.39931</td>\n",
       "      <td>387.69910</td>\n",
       "      <td>287.15347</td>\n",
       "      <td>112.37152</td>\n",
       "      <td>161.68928</td>\n",
       "      <td>144.14353</td>\n",
       "      <td>199.29693</td>\n",
       "      <td>-4.24359</td>\n",
       "      <td>-297.00587</td>\n",
       "      <td>-148.36392</td>\n",
       "      <td>-7.94726</td>\n",
       "      <td>-18.71630</td>\n",
       "      <td>12.77542</td>\n",
       "      <td>-25.37725</td>\n",
       "      <td>9.71410</td>\n",
       "      <td>0.13843</td>\n",
       "      <td>26.79723</td>\n",
       "      <td>6.30760</td>\n",
       "      <td>28.70107</td>\n",
       "      <td>-74.89005</td>\n",
       "      <td>-289.19553</td>\n",
       "      <td>-166.26089</td>\n",
       "      <td>...</td>\n",
       "      <td>18.50939</td>\n",
       "      <td>16.97216</td>\n",
       "      <td>24.26629</td>\n",
       "      <td>-10.50788</td>\n",
       "      <td>-8.68412</td>\n",
       "      <td>54.75759</td>\n",
       "      <td>194.74034</td>\n",
       "      <td>7.95966</td>\n",
       "      <td>-18.22685</td>\n",
       "      <td>0.06463</td>\n",
       "      <td>-2.63069</td>\n",
       "      <td>26.02561</td>\n",
       "      <td>1.75729</td>\n",
       "      <td>-262.36917</td>\n",
       "      <td>-233.60089</td>\n",
       "      <td>-2.50502</td>\n",
       "      <td>-12.14279</td>\n",
       "      <td>81.37617</td>\n",
       "      <td>2.07554</td>\n",
       "      <td>-1.82381</td>\n",
       "      <td>183.65292</td>\n",
       "      <td>22.64797</td>\n",
       "      <td>-39.98887</td>\n",
       "      <td>43.37381</td>\n",
       "      <td>-31.56737</td>\n",
       "      <td>-4.88840</td>\n",
       "      <td>-36.53213</td>\n",
       "      <td>-23.94662</td>\n",
       "      <td>-84.19275</td>\n",
       "      <td>66.00518</td>\n",
       "      <td>3.03800</td>\n",
       "      <td>26.05866</td>\n",
       "      <td>-50.92779</td>\n",
       "      <td>10.93792</td>\n",
       "      <td>-0.07568</td>\n",
       "      <td>43.20130</td>\n",
       "      <td>-115.00698</td>\n",
       "      <td>-0.05859</td>\n",
       "      <td>39.67068</td>\n",
       "      <td>-0.66345</td>\n",
       "    </tr>\n",
       "    <tr>\n",
       "      <th>3</th>\n",
       "      <td>2001</td>\n",
       "      <td>48.24750</td>\n",
       "      <td>-1.89837</td>\n",
       "      <td>36.29772</td>\n",
       "      <td>2.58776</td>\n",
       "      <td>0.97170</td>\n",
       "      <td>-26.21683</td>\n",
       "      <td>5.05097</td>\n",
       "      <td>-10.34124</td>\n",
       "      <td>3.55005</td>\n",
       "      <td>-6.36304</td>\n",
       "      <td>6.63016</td>\n",
       "      <td>-3.35142</td>\n",
       "      <td>37.64085</td>\n",
       "      <td>2174.08189</td>\n",
       "      <td>697.43346</td>\n",
       "      <td>459.24587</td>\n",
       "      <td>742.78961</td>\n",
       "      <td>229.30783</td>\n",
       "      <td>387.89697</td>\n",
       "      <td>249.06662</td>\n",
       "      <td>245.89870</td>\n",
       "      <td>176.20527</td>\n",
       "      <td>98.82222</td>\n",
       "      <td>150.97286</td>\n",
       "      <td>78.49057</td>\n",
       "      <td>-62.00282</td>\n",
       "      <td>43.49659</td>\n",
       "      <td>-96.42719</td>\n",
       "      <td>-108.96608</td>\n",
       "      <td>14.22854</td>\n",
       "      <td>14.54178</td>\n",
       "      <td>-23.55608</td>\n",
       "      <td>-39.36953</td>\n",
       "      <td>-43.59209</td>\n",
       "      <td>20.83714</td>\n",
       "      <td>35.63919</td>\n",
       "      <td>-181.34947</td>\n",
       "      <td>-93.66614</td>\n",
       "      <td>-90.55616</td>\n",
       "      <td>...</td>\n",
       "      <td>4.56917</td>\n",
       "      <td>-37.32280</td>\n",
       "      <td>4.15159</td>\n",
       "      <td>12.24315</td>\n",
       "      <td>35.02697</td>\n",
       "      <td>-178.89573</td>\n",
       "      <td>82.46573</td>\n",
       "      <td>-20.49425</td>\n",
       "      <td>101.78577</td>\n",
       "      <td>-19.77808</td>\n",
       "      <td>-21.52657</td>\n",
       "      <td>3.36303</td>\n",
       "      <td>-11.63176</td>\n",
       "      <td>51.55411</td>\n",
       "      <td>-50.57576</td>\n",
       "      <td>-28.14755</td>\n",
       "      <td>-83.15795</td>\n",
       "      <td>-7.35260</td>\n",
       "      <td>-22.11505</td>\n",
       "      <td>1.18279</td>\n",
       "      <td>-122.70467</td>\n",
       "      <td>150.57360</td>\n",
       "      <td>24.37468</td>\n",
       "      <td>41.19821</td>\n",
       "      <td>-37.04318</td>\n",
       "      <td>-28.72986</td>\n",
       "      <td>162.19614</td>\n",
       "      <td>22.18309</td>\n",
       "      <td>-8.63509</td>\n",
       "      <td>85.23416</td>\n",
       "      <td>34.57337</td>\n",
       "      <td>-171.70734</td>\n",
       "      <td>-16.96705</td>\n",
       "      <td>-46.67617</td>\n",
       "      <td>-12.51516</td>\n",
       "      <td>82.58061</td>\n",
       "      <td>-72.08993</td>\n",
       "      <td>9.90558</td>\n",
       "      <td>199.62971</td>\n",
       "      <td>18.85382</td>\n",
       "    </tr>\n",
       "    <tr>\n",
       "      <th>4</th>\n",
       "      <td>2001</td>\n",
       "      <td>50.97020</td>\n",
       "      <td>42.20998</td>\n",
       "      <td>67.09964</td>\n",
       "      <td>8.46791</td>\n",
       "      <td>-15.85279</td>\n",
       "      <td>-16.81409</td>\n",
       "      <td>-12.48207</td>\n",
       "      <td>-9.37636</td>\n",
       "      <td>12.63699</td>\n",
       "      <td>0.93609</td>\n",
       "      <td>1.60923</td>\n",
       "      <td>2.19223</td>\n",
       "      <td>47.32082</td>\n",
       "      <td>894.28471</td>\n",
       "      <td>809.86615</td>\n",
       "      <td>318.78559</td>\n",
       "      <td>435.04497</td>\n",
       "      <td>341.61467</td>\n",
       "      <td>334.30734</td>\n",
       "      <td>322.99589</td>\n",
       "      <td>190.61921</td>\n",
       "      <td>235.84715</td>\n",
       "      <td>96.89517</td>\n",
       "      <td>210.58870</td>\n",
       "      <td>5.60463</td>\n",
       "      <td>-199.63958</td>\n",
       "      <td>204.85812</td>\n",
       "      <td>-77.17695</td>\n",
       "      <td>-65.79741</td>\n",
       "      <td>-6.95097</td>\n",
       "      <td>-12.15262</td>\n",
       "      <td>-3.85410</td>\n",
       "      <td>20.68990</td>\n",
       "      <td>-20.30480</td>\n",
       "      <td>37.15045</td>\n",
       "      <td>11.20673</td>\n",
       "      <td>-124.09519</td>\n",
       "      <td>-295.98542</td>\n",
       "      <td>-33.31169</td>\n",
       "      <td>...</td>\n",
       "      <td>45.25506</td>\n",
       "      <td>10.42226</td>\n",
       "      <td>27.88782</td>\n",
       "      <td>-17.12676</td>\n",
       "      <td>-31.54772</td>\n",
       "      <td>-76.86293</td>\n",
       "      <td>41.17343</td>\n",
       "      <td>-138.32535</td>\n",
       "      <td>-53.96905</td>\n",
       "      <td>-21.30266</td>\n",
       "      <td>-24.87362</td>\n",
       "      <td>-2.46595</td>\n",
       "      <td>-4.05003</td>\n",
       "      <td>-56.51161</td>\n",
       "      <td>-34.56445</td>\n",
       "      <td>-5.07092</td>\n",
       "      <td>-47.75605</td>\n",
       "      <td>64.81513</td>\n",
       "      <td>-97.42948</td>\n",
       "      <td>-12.59418</td>\n",
       "      <td>55.23699</td>\n",
       "      <td>28.85657</td>\n",
       "      <td>54.53513</td>\n",
       "      <td>-31.97077</td>\n",
       "      <td>20.03279</td>\n",
       "      <td>-8.07892</td>\n",
       "      <td>-55.12617</td>\n",
       "      <td>26.58961</td>\n",
       "      <td>-10.27183</td>\n",
       "      <td>-30.64232</td>\n",
       "      <td>9.92661</td>\n",
       "      <td>-55.95724</td>\n",
       "      <td>64.92712</td>\n",
       "      <td>-17.72522</td>\n",
       "      <td>-1.49237</td>\n",
       "      <td>-7.50035</td>\n",
       "      <td>51.76631</td>\n",
       "      <td>7.88713</td>\n",
       "      <td>55.66926</td>\n",
       "      <td>28.74903</td>\n",
       "    </tr>\n",
       "  </tbody>\n",
       "</table>\n",
       "<p>5 rows × 91 columns</p>\n",
       "</div>"
      ],
      "text/plain": [
       "      0         1         2         3  ...         87        88         89        90\n",
       "0  2001  49.94357  21.47114  73.07750  ...   68.40795  -1.82223  -27.46348   2.26327\n",
       "1  2001  48.73215  18.42930  70.32679  ...   70.49388  12.04941   58.43453  26.92061\n",
       "2  2001  50.95714  31.85602  55.81851  ... -115.00698  -0.05859   39.67068  -0.66345\n",
       "3  2001  48.24750  -1.89837  36.29772  ...  -72.08993   9.90558  199.62971  18.85382\n",
       "4  2001  50.97020  42.20998  67.09964  ...   51.76631   7.88713   55.66926  28.74903\n",
       "\n",
       "[5 rows x 91 columns]"
      ]
     },
     "execution_count": 6,
     "metadata": {
      "tags": []
     },
     "output_type": "execute_result"
    }
   ],
   "source": [
    "data.head()"
   ]
  },
  {
   "cell_type": "code",
   "execution_count": null,
   "metadata": {
    "colab": {
     "base_uri": "https://localhost:8080/"
    },
    "id": "ZUWjAAAI5GQK",
    "outputId": "e442f027-d2cb-489c-917c-2aa019ff2c6b"
   },
   "outputs": [
    {
     "name": "stdout",
     "output_type": "stream",
     "text": [
      "<class 'pandas.core.frame.DataFrame'>\n",
      "RangeIndex: 50000 entries, 0 to 49999\n",
      "Data columns (total 91 columns):\n",
      " #   Column  Non-Null Count  Dtype  \n",
      "---  ------  --------------  -----  \n",
      " 0   0       50000 non-null  int64  \n",
      " 1   1       50000 non-null  float64\n",
      " 2   2       50000 non-null  float64\n",
      " 3   3       50000 non-null  float64\n",
      " 4   4       50000 non-null  float64\n",
      " 5   5       50000 non-null  float64\n",
      " 6   6       50000 non-null  float64\n",
      " 7   7       50000 non-null  float64\n",
      " 8   8       50000 non-null  float64\n",
      " 9   9       50000 non-null  float64\n",
      " 10  10      50000 non-null  float64\n",
      " 11  11      50000 non-null  float64\n",
      " 12  12      50000 non-null  float64\n",
      " 13  13      50000 non-null  float64\n",
      " 14  14      50000 non-null  float64\n",
      " 15  15      50000 non-null  float64\n",
      " 16  16      50000 non-null  float64\n",
      " 17  17      50000 non-null  float64\n",
      " 18  18      50000 non-null  float64\n",
      " 19  19      50000 non-null  float64\n",
      " 20  20      50000 non-null  float64\n",
      " 21  21      50000 non-null  float64\n",
      " 22  22      50000 non-null  float64\n",
      " 23  23      50000 non-null  float64\n",
      " 24  24      50000 non-null  float64\n",
      " 25  25      50000 non-null  float64\n",
      " 26  26      50000 non-null  float64\n",
      " 27  27      50000 non-null  float64\n",
      " 28  28      50000 non-null  float64\n",
      " 29  29      50000 non-null  float64\n",
      " 30  30      50000 non-null  float64\n",
      " 31  31      50000 non-null  float64\n",
      " 32  32      50000 non-null  float64\n",
      " 33  33      50000 non-null  float64\n",
      " 34  34      50000 non-null  float64\n",
      " 35  35      50000 non-null  float64\n",
      " 36  36      50000 non-null  float64\n",
      " 37  37      50000 non-null  float64\n",
      " 38  38      50000 non-null  float64\n",
      " 39  39      50000 non-null  float64\n",
      " 40  40      50000 non-null  float64\n",
      " 41  41      50000 non-null  float64\n",
      " 42  42      50000 non-null  float64\n",
      " 43  43      50000 non-null  float64\n",
      " 44  44      50000 non-null  float64\n",
      " 45  45      50000 non-null  float64\n",
      " 46  46      50000 non-null  float64\n",
      " 47  47      50000 non-null  float64\n",
      " 48  48      50000 non-null  float64\n",
      " 49  49      50000 non-null  float64\n",
      " 50  50      50000 non-null  float64\n",
      " 51  51      50000 non-null  float64\n",
      " 52  52      50000 non-null  float64\n",
      " 53  53      50000 non-null  float64\n",
      " 54  54      50000 non-null  float64\n",
      " 55  55      50000 non-null  float64\n",
      " 56  56      50000 non-null  float64\n",
      " 57  57      50000 non-null  float64\n",
      " 58  58      50000 non-null  float64\n",
      " 59  59      50000 non-null  float64\n",
      " 60  60      50000 non-null  float64\n",
      " 61  61      50000 non-null  float64\n",
      " 62  62      50000 non-null  float64\n",
      " 63  63      50000 non-null  float64\n",
      " 64  64      50000 non-null  float64\n",
      " 65  65      50000 non-null  float64\n",
      " 66  66      50000 non-null  float64\n",
      " 67  67      50000 non-null  float64\n",
      " 68  68      50000 non-null  float64\n",
      " 69  69      50000 non-null  float64\n",
      " 70  70      50000 non-null  float64\n",
      " 71  71      50000 non-null  float64\n",
      " 72  72      50000 non-null  float64\n",
      " 73  73      50000 non-null  float64\n",
      " 74  74      50000 non-null  float64\n",
      " 75  75      50000 non-null  float64\n",
      " 76  76      50000 non-null  float64\n",
      " 77  77      50000 non-null  float64\n",
      " 78  78      50000 non-null  float64\n",
      " 79  79      50000 non-null  float64\n",
      " 80  80      50000 non-null  float64\n",
      " 81  81      50000 non-null  float64\n",
      " 82  82      50000 non-null  float64\n",
      " 83  83      50000 non-null  float64\n",
      " 84  84      50000 non-null  float64\n",
      " 85  85      50000 non-null  float64\n",
      " 86  86      50000 non-null  float64\n",
      " 87  87      50000 non-null  float64\n",
      " 88  88      50000 non-null  float64\n",
      " 89  89      50000 non-null  float64\n",
      " 90  90      50000 non-null  float64\n",
      "dtypes: float64(90), int64(1)\n",
      "memory usage: 34.7 MB\n"
     ]
    }
   ],
   "source": [
    "data.info()"
   ]
  },
  {
   "cell_type": "markdown",
   "metadata": {
    "id": "0ZJW7Vs63CzN"
   },
   "source": [
    "### Check for missing values. "
   ]
  },
  {
   "cell_type": "code",
   "execution_count": null,
   "metadata": {
    "colab": {
     "base_uri": "https://localhost:8080/"
    },
    "id": "XLvQJLRJ3CzP",
    "outputId": "da9ef188-5e0a-4377-f899-89554f258e03"
   },
   "outputs": [
    {
     "data": {
      "text/plain": [
       "0     0\n",
       "1     0\n",
       "2     0\n",
       "3     0\n",
       "4     0\n",
       "     ..\n",
       "86    0\n",
       "87    0\n",
       "88    0\n",
       "89    0\n",
       "90    0\n",
       "Length: 91, dtype: int64"
      ]
     },
     "execution_count": 8,
     "metadata": {
      "tags": []
     },
     "output_type": "execute_result"
    }
   ],
   "source": [
    "data.isnull().sum()"
   ]
  },
  {
   "cell_type": "markdown",
   "metadata": {
    "id": "234Gq4Nt3CzQ"
   },
   "source": [
    "### Check for outliers."
   ]
  },
  {
   "cell_type": "code",
   "execution_count": null,
   "metadata": {
    "colab": {
     "base_uri": "https://localhost:8080/"
    },
    "id": "uo6qj43b3CzT",
    "outputId": "a199ea2b-5050-4841-9df2-e77927587c0e"
   },
   "outputs": [
    {
     "data": {
      "text/plain": [
       "{'0': '0.009',\n",
       " '1': '0.011',\n",
       " '10': '0.007',\n",
       " '11': '0.008',\n",
       " '12': '0.014',\n",
       " '13': '0.015',\n",
       " '14': '0.016',\n",
       " '15': '0.022',\n",
       " '16': '0.015',\n",
       " '17': '0.016',\n",
       " '18': '0.019',\n",
       " '19': '0.020',\n",
       " '2': '0.013',\n",
       " '20': '0.016',\n",
       " '21': '0.016',\n",
       " '22': '0.015',\n",
       " '23': '0.015',\n",
       " '24': '0.017',\n",
       " '25': '0.015',\n",
       " '26': '0.016',\n",
       " '27': '0.021',\n",
       " '28': '0.019',\n",
       " '29': '0.016',\n",
       " '3': '0.012',\n",
       " '30': '0.014',\n",
       " '31': '0.017',\n",
       " '32': '0.017',\n",
       " '33': '0.015',\n",
       " '34': '0.012',\n",
       " '35': '0.016',\n",
       " '36': '0.016',\n",
       " '37': '0.011',\n",
       " '38': '0.021',\n",
       " '39': '0.014',\n",
       " '4': '0.014',\n",
       " '40': '0.015',\n",
       " '41': '0.017',\n",
       " '42': '0.017',\n",
       " '43': '0.015',\n",
       " '44': '0.020',\n",
       " '45': '0.017',\n",
       " '46': '0.014',\n",
       " '47': '0.019',\n",
       " '48': '0.023',\n",
       " '49': '0.015',\n",
       " '5': '0.004',\n",
       " '50': '0.015',\n",
       " '51': '0.017',\n",
       " '52': '0.016',\n",
       " '53': '0.016',\n",
       " '54': '0.016',\n",
       " '55': '0.018',\n",
       " '56': '0.020',\n",
       " '57': '0.020',\n",
       " '58': '0.010',\n",
       " '59': '0.014',\n",
       " '6': '0.016',\n",
       " '60': '0.015',\n",
       " '61': '0.014',\n",
       " '62': '0.015',\n",
       " '63': '0.021',\n",
       " '64': '0.021',\n",
       " '65': '0.019',\n",
       " '66': '0.023',\n",
       " '67': '0.017',\n",
       " '68': '0.024',\n",
       " '69': '0.018',\n",
       " '7': '0.012',\n",
       " '70': '0.015',\n",
       " '71': '0.012',\n",
       " '72': '0.022',\n",
       " '73': '0.018',\n",
       " '74': '0.015',\n",
       " '75': '0.014',\n",
       " '76': '0.012',\n",
       " '77': '0.022',\n",
       " '78': '0.014',\n",
       " '79': '0.013',\n",
       " '8': '0.008',\n",
       " '80': '0.018',\n",
       " '81': '0.020',\n",
       " '82': '0.019',\n",
       " '83': '0.014',\n",
       " '84': '0.019',\n",
       " '85': '0.016',\n",
       " '86': '0.019',\n",
       " '87': '0.020',\n",
       " '88': '0.013',\n",
       " '89': '0.017',\n",
       " '9': '0.013',\n",
       " '90': '0.021'}"
      ]
     },
     "execution_count": 50,
     "metadata": {
      "tags": []
     },
     "output_type": "execute_result"
    }
   ],
   "source": [
    "outliers = {}\n",
    "for i in range(data.shape[1]):\n",
    "    min_t = data[data.columns[i]].mean()- (3 * data[data.columns[i]].std())\n",
    "    max_t = data[data.columns[i]].mean()+ (3 * data[data.columns[i]].std())\n",
    "    count = 0\n",
    "    for j in data[data.columns[i]]:\n",
    "        if j < min_t or j > max_t:\n",
    "            count += 1\n",
    "    percentage = count / data.shape[0]\n",
    "    outliers[data.columns[i]] = \"%.3f\" % percentage\n",
    "outliers"
   ]
  },
  {
   "cell_type": "markdown",
   "metadata": {
    "id": "B0bGgLGP3CzW"
   },
   "source": [
    "### Data Rescaling"
   ]
  },
  {
   "cell_type": "code",
   "execution_count": null,
   "metadata": {
    "colab": {
     "base_uri": "https://localhost:8080/",
     "height": 247
    },
    "id": "HBtMw_H53CzW",
    "outputId": "0073453d-185e-4087-ae03-fa6d229c5178"
   },
   "outputs": [
    {
     "data": {
      "text/html": [
       "<div>\n",
       "<style scoped>\n",
       "    .dataframe tbody tr th:only-of-type {\n",
       "        vertical-align: middle;\n",
       "    }\n",
       "\n",
       "    .dataframe tbody tr th {\n",
       "        vertical-align: top;\n",
       "    }\n",
       "\n",
       "    .dataframe thead th {\n",
       "        text-align: right;\n",
       "    }\n",
       "</style>\n",
       "<table border=\"1\" class=\"dataframe\">\n",
       "  <thead>\n",
       "    <tr style=\"text-align: right;\">\n",
       "      <th></th>\n",
       "      <th>1</th>\n",
       "      <th>2</th>\n",
       "      <th>3</th>\n",
       "      <th>4</th>\n",
       "      <th>5</th>\n",
       "      <th>6</th>\n",
       "      <th>7</th>\n",
       "      <th>8</th>\n",
       "      <th>9</th>\n",
       "      <th>10</th>\n",
       "      <th>11</th>\n",
       "      <th>12</th>\n",
       "      <th>13</th>\n",
       "      <th>14</th>\n",
       "      <th>15</th>\n",
       "      <th>16</th>\n",
       "      <th>17</th>\n",
       "      <th>18</th>\n",
       "      <th>19</th>\n",
       "      <th>20</th>\n",
       "      <th>21</th>\n",
       "      <th>22</th>\n",
       "      <th>23</th>\n",
       "      <th>24</th>\n",
       "      <th>25</th>\n",
       "      <th>26</th>\n",
       "      <th>27</th>\n",
       "      <th>28</th>\n",
       "      <th>29</th>\n",
       "      <th>30</th>\n",
       "      <th>31</th>\n",
       "      <th>32</th>\n",
       "      <th>33</th>\n",
       "      <th>34</th>\n",
       "      <th>35</th>\n",
       "      <th>36</th>\n",
       "      <th>37</th>\n",
       "      <th>38</th>\n",
       "      <th>39</th>\n",
       "      <th>40</th>\n",
       "      <th>...</th>\n",
       "      <th>51</th>\n",
       "      <th>52</th>\n",
       "      <th>53</th>\n",
       "      <th>54</th>\n",
       "      <th>55</th>\n",
       "      <th>56</th>\n",
       "      <th>57</th>\n",
       "      <th>58</th>\n",
       "      <th>59</th>\n",
       "      <th>60</th>\n",
       "      <th>61</th>\n",
       "      <th>62</th>\n",
       "      <th>63</th>\n",
       "      <th>64</th>\n",
       "      <th>65</th>\n",
       "      <th>66</th>\n",
       "      <th>67</th>\n",
       "      <th>68</th>\n",
       "      <th>69</th>\n",
       "      <th>70</th>\n",
       "      <th>71</th>\n",
       "      <th>72</th>\n",
       "      <th>73</th>\n",
       "      <th>74</th>\n",
       "      <th>75</th>\n",
       "      <th>76</th>\n",
       "      <th>77</th>\n",
       "      <th>78</th>\n",
       "      <th>79</th>\n",
       "      <th>80</th>\n",
       "      <th>81</th>\n",
       "      <th>82</th>\n",
       "      <th>83</th>\n",
       "      <th>84</th>\n",
       "      <th>85</th>\n",
       "      <th>86</th>\n",
       "      <th>87</th>\n",
       "      <th>88</th>\n",
       "      <th>89</th>\n",
       "      <th>90</th>\n",
       "    </tr>\n",
       "  </thead>\n",
       "  <tbody>\n",
       "    <tr>\n",
       "      <th>0</th>\n",
       "      <td>0.860844</td>\n",
       "      <td>0.520015</td>\n",
       "      <td>0.638629</td>\n",
       "      <td>0.468319</td>\n",
       "      <td>0.279845</td>\n",
       "      <td>0.267357</td>\n",
       "      <td>0.497138</td>\n",
       "      <td>0.325330</td>\n",
       "      <td>0.617330</td>\n",
       "      <td>0.340078</td>\n",
       "      <td>0.736465</td>\n",
       "      <td>0.396681</td>\n",
       "      <td>0.023633</td>\n",
       "      <td>0.013080</td>\n",
       "      <td>0.023295</td>\n",
       "      <td>0.022508</td>\n",
       "      <td>0.021186</td>\n",
       "      <td>0.045069</td>\n",
       "      <td>0.057859</td>\n",
       "      <td>0.035319</td>\n",
       "      <td>0.043588</td>\n",
       "      <td>0.064035</td>\n",
       "      <td>0.024940</td>\n",
       "      <td>0.024014</td>\n",
       "      <td>0.625392</td>\n",
       "      <td>0.362336</td>\n",
       "      <td>0.451613</td>\n",
       "      <td>0.525035</td>\n",
       "      <td>0.564584</td>\n",
       "      <td>0.357288</td>\n",
       "      <td>0.636241</td>\n",
       "      <td>0.516722</td>\n",
       "      <td>0.345469</td>\n",
       "      <td>0.231320</td>\n",
       "      <td>0.408226</td>\n",
       "      <td>0.320482</td>\n",
       "      <td>0.290368</td>\n",
       "      <td>0.502239</td>\n",
       "      <td>0.721175</td>\n",
       "      <td>0.484187</td>\n",
       "      <td>...</td>\n",
       "      <td>0.480456</td>\n",
       "      <td>0.391836</td>\n",
       "      <td>0.701577</td>\n",
       "      <td>0.557544</td>\n",
       "      <td>0.736049</td>\n",
       "      <td>0.326759</td>\n",
       "      <td>0.357372</td>\n",
       "      <td>0.349611</td>\n",
       "      <td>0.455129</td>\n",
       "      <td>0.362534</td>\n",
       "      <td>0.328069</td>\n",
       "      <td>0.471781</td>\n",
       "      <td>0.444616</td>\n",
       "      <td>0.562330</td>\n",
       "      <td>0.690142</td>\n",
       "      <td>0.393331</td>\n",
       "      <td>0.494989</td>\n",
       "      <td>0.356332</td>\n",
       "      <td>0.371582</td>\n",
       "      <td>0.530982</td>\n",
       "      <td>0.758821</td>\n",
       "      <td>0.549344</td>\n",
       "      <td>0.736229</td>\n",
       "      <td>0.458136</td>\n",
       "      <td>0.488290</td>\n",
       "      <td>0.343237</td>\n",
       "      <td>0.378968</td>\n",
       "      <td>0.489137</td>\n",
       "      <td>0.738900</td>\n",
       "      <td>0.481110</td>\n",
       "      <td>0.432239</td>\n",
       "      <td>0.569115</td>\n",
       "      <td>0.327585</td>\n",
       "      <td>0.493224</td>\n",
       "      <td>0.512380</td>\n",
       "      <td>0.659509</td>\n",
       "      <td>0.528092</td>\n",
       "      <td>0.499917</td>\n",
       "      <td>0.542475</td>\n",
       "      <td>0.459884</td>\n",
       "    </tr>\n",
       "    <tr>\n",
       "      <th>1</th>\n",
       "      <td>0.837937</td>\n",
       "      <td>0.514852</td>\n",
       "      <td>0.633315</td>\n",
       "      <td>0.483503</td>\n",
       "      <td>0.298094</td>\n",
       "      <td>0.202651</td>\n",
       "      <td>0.616818</td>\n",
       "      <td>0.410166</td>\n",
       "      <td>0.670349</td>\n",
       "      <td>0.414250</td>\n",
       "      <td>0.721845</td>\n",
       "      <td>0.414435</td>\n",
       "      <td>0.109941</td>\n",
       "      <td>0.051058</td>\n",
       "      <td>0.013881</td>\n",
       "      <td>0.013609</td>\n",
       "      <td>0.044415</td>\n",
       "      <td>0.049111</td>\n",
       "      <td>0.144839</td>\n",
       "      <td>0.056933</td>\n",
       "      <td>0.057083</td>\n",
       "      <td>0.098425</td>\n",
       "      <td>0.036975</td>\n",
       "      <td>0.046102</td>\n",
       "      <td>0.633301</td>\n",
       "      <td>0.370472</td>\n",
       "      <td>0.454266</td>\n",
       "      <td>0.540229</td>\n",
       "      <td>0.564455</td>\n",
       "      <td>0.336395</td>\n",
       "      <td>0.641442</td>\n",
       "      <td>0.522144</td>\n",
       "      <td>0.353886</td>\n",
       "      <td>0.217109</td>\n",
       "      <td>0.434182</td>\n",
       "      <td>0.332409</td>\n",
       "      <td>0.281976</td>\n",
       "      <td>0.505391</td>\n",
       "      <td>0.713637</td>\n",
       "      <td>0.512584</td>\n",
       "      <td>...</td>\n",
       "      <td>0.499751</td>\n",
       "      <td>0.394315</td>\n",
       "      <td>0.717523</td>\n",
       "      <td>0.530304</td>\n",
       "      <td>0.719890</td>\n",
       "      <td>0.342989</td>\n",
       "      <td>0.354835</td>\n",
       "      <td>0.338569</td>\n",
       "      <td>0.438305</td>\n",
       "      <td>0.356827</td>\n",
       "      <td>0.311824</td>\n",
       "      <td>0.451976</td>\n",
       "      <td>0.467118</td>\n",
       "      <td>0.533274</td>\n",
       "      <td>0.707849</td>\n",
       "      <td>0.403751</td>\n",
       "      <td>0.455827</td>\n",
       "      <td>0.350092</td>\n",
       "      <td>0.377634</td>\n",
       "      <td>0.494529</td>\n",
       "      <td>0.767805</td>\n",
       "      <td>0.577469</td>\n",
       "      <td>0.739384</td>\n",
       "      <td>0.449818</td>\n",
       "      <td>0.501395</td>\n",
       "      <td>0.332322</td>\n",
       "      <td>0.372183</td>\n",
       "      <td>0.489054</td>\n",
       "      <td>0.742439</td>\n",
       "      <td>0.457663</td>\n",
       "      <td>0.424980</td>\n",
       "      <td>0.577781</td>\n",
       "      <td>0.321123</td>\n",
       "      <td>0.502724</td>\n",
       "      <td>0.484122</td>\n",
       "      <td>0.656912</td>\n",
       "      <td>0.528448</td>\n",
       "      <td>0.529855</td>\n",
       "      <td>0.551845</td>\n",
       "      <td>0.495266</td>\n",
       "    </tr>\n",
       "    <tr>\n",
       "      <th>2</th>\n",
       "      <td>0.880010</td>\n",
       "      <td>0.537641</td>\n",
       "      <td>0.605290</td>\n",
       "      <td>0.485205</td>\n",
       "      <td>0.307745</td>\n",
       "      <td>0.237314</td>\n",
       "      <td>0.574141</td>\n",
       "      <td>0.399441</td>\n",
       "      <td>0.657280</td>\n",
       "      <td>0.380663</td>\n",
       "      <td>0.728694</td>\n",
       "      <td>0.417698</td>\n",
       "      <td>0.016716</td>\n",
       "      <td>0.015403</td>\n",
       "      <td>0.025063</td>\n",
       "      <td>0.018661</td>\n",
       "      <td>0.017827</td>\n",
       "      <td>0.060722</td>\n",
       "      <td>0.070531</td>\n",
       "      <td>0.043578</td>\n",
       "      <td>0.015330</td>\n",
       "      <td>0.053833</td>\n",
       "      <td>0.037669</td>\n",
       "      <td>0.027228</td>\n",
       "      <td>0.626575</td>\n",
       "      <td>0.363008</td>\n",
       "      <td>0.441923</td>\n",
       "      <td>0.515235</td>\n",
       "      <td>0.580486</td>\n",
       "      <td>0.366650</td>\n",
       "      <td>0.627013</td>\n",
       "      <td>0.505054</td>\n",
       "      <td>0.340774</td>\n",
       "      <td>0.241880</td>\n",
       "      <td>0.407191</td>\n",
       "      <td>0.333220</td>\n",
       "      <td>0.293288</td>\n",
       "      <td>0.486612</td>\n",
       "      <td>0.711602</td>\n",
       "      <td>0.471003</td>\n",
       "      <td>...</td>\n",
       "      <td>0.496158</td>\n",
       "      <td>0.401365</td>\n",
       "      <td>0.704610</td>\n",
       "      <td>0.540896</td>\n",
       "      <td>0.735398</td>\n",
       "      <td>0.334911</td>\n",
       "      <td>0.366231</td>\n",
       "      <td>0.345503</td>\n",
       "      <td>0.444752</td>\n",
       "      <td>0.374538</td>\n",
       "      <td>0.330659</td>\n",
       "      <td>0.484858</td>\n",
       "      <td>0.456667</td>\n",
       "      <td>0.546795</td>\n",
       "      <td>0.668663</td>\n",
       "      <td>0.400551</td>\n",
       "      <td>0.487904</td>\n",
       "      <td>0.358597</td>\n",
       "      <td>0.363025</td>\n",
       "      <td>0.523082</td>\n",
       "      <td>0.782685</td>\n",
       "      <td>0.559796</td>\n",
       "      <td>0.731759</td>\n",
       "      <td>0.485004</td>\n",
       "      <td>0.476917</td>\n",
       "      <td>0.344134</td>\n",
       "      <td>0.376797</td>\n",
       "      <td>0.478801</td>\n",
       "      <td>0.735557</td>\n",
       "      <td>0.487236</td>\n",
       "      <td>0.422381</td>\n",
       "      <td>0.589197</td>\n",
       "      <td>0.300206</td>\n",
       "      <td>0.491692</td>\n",
       "      <td>0.509335</td>\n",
       "      <td>0.678347</td>\n",
       "      <td>0.496790</td>\n",
       "      <td>0.503723</td>\n",
       "      <td>0.549798</td>\n",
       "      <td>0.455684</td>\n",
       "    </tr>\n",
       "    <tr>\n",
       "      <th>3</th>\n",
       "      <td>0.828773</td>\n",
       "      <td>0.480350</td>\n",
       "      <td>0.567581</td>\n",
       "      <td>0.446035</td>\n",
       "      <td>0.327202</td>\n",
       "      <td>0.195050</td>\n",
       "      <td>0.603655</td>\n",
       "      <td>0.339514</td>\n",
       "      <td>0.596574</td>\n",
       "      <td>0.299154</td>\n",
       "      <td>0.780358</td>\n",
       "      <td>0.389752</td>\n",
       "      <td>0.092901</td>\n",
       "      <td>0.054135</td>\n",
       "      <td>0.016388</td>\n",
       "      <td>0.013677</td>\n",
       "      <td>0.042247</td>\n",
       "      <td>0.025529</td>\n",
       "      <td>0.070572</td>\n",
       "      <td>0.037163</td>\n",
       "      <td>0.042466</td>\n",
       "      <td>0.059644</td>\n",
       "      <td>0.024473</td>\n",
       "      <td>0.019502</td>\n",
       "      <td>0.650030</td>\n",
       "      <td>0.370576</td>\n",
       "      <td>0.449535</td>\n",
       "      <td>0.499766</td>\n",
       "      <td>0.561835</td>\n",
       "      <td>0.367091</td>\n",
       "      <td>0.640484</td>\n",
       "      <td>0.489344</td>\n",
       "      <td>0.324766</td>\n",
       "      <td>0.212650</td>\n",
       "      <td>0.417298</td>\n",
       "      <td>0.336261</td>\n",
       "      <td>0.287999</td>\n",
       "      <td>0.501449</td>\n",
       "      <td>0.717221</td>\n",
       "      <td>0.468120</td>\n",
       "      <td>...</td>\n",
       "      <td>0.491171</td>\n",
       "      <td>0.376587</td>\n",
       "      <td>0.699051</td>\n",
       "      <td>0.548171</td>\n",
       "      <td>0.755415</td>\n",
       "      <td>0.309770</td>\n",
       "      <td>0.355084</td>\n",
       "      <td>0.343428</td>\n",
       "      <td>0.472858</td>\n",
       "      <td>0.369204</td>\n",
       "      <td>0.322035</td>\n",
       "      <td>0.468474</td>\n",
       "      <td>0.443752</td>\n",
       "      <td>0.576012</td>\n",
       "      <td>0.694600</td>\n",
       "      <td>0.394956</td>\n",
       "      <td>0.458024</td>\n",
       "      <td>0.339310</td>\n",
       "      <td>0.355069</td>\n",
       "      <td>0.526110</td>\n",
       "      <td>0.749572</td>\n",
       "      <td>0.580762</td>\n",
       "      <td>0.740869</td>\n",
       "      <td>0.483389</td>\n",
       "      <td>0.474205</td>\n",
       "      <td>0.323171</td>\n",
       "      <td>0.394617</td>\n",
       "      <td>0.491143</td>\n",
       "      <td>0.744013</td>\n",
       "      <td>0.491792</td>\n",
       "      <td>0.453535</td>\n",
       "      <td>0.539840</td>\n",
       "      <td>0.308665</td>\n",
       "      <td>0.471793</td>\n",
       "      <td>0.477423</td>\n",
       "      <td>0.689537</td>\n",
       "      <td>0.504114</td>\n",
       "      <td>0.525228</td>\n",
       "      <td>0.567246</td>\n",
       "      <td>0.483691</td>\n",
       "    </tr>\n",
       "    <tr>\n",
       "      <th>4</th>\n",
       "      <td>0.880257</td>\n",
       "      <td>0.555214</td>\n",
       "      <td>0.627082</td>\n",
       "      <td>0.467304</td>\n",
       "      <td>0.283848</td>\n",
       "      <td>0.246879</td>\n",
       "      <td>0.541533</td>\n",
       "      <td>0.346750</td>\n",
       "      <td>0.640634</td>\n",
       "      <td>0.375840</td>\n",
       "      <td>0.713753</td>\n",
       "      <td>0.426820</td>\n",
       "      <td>0.117341</td>\n",
       "      <td>0.020519</td>\n",
       "      <td>0.019449</td>\n",
       "      <td>0.008484</td>\n",
       "      <td>0.022831</td>\n",
       "      <td>0.039742</td>\n",
       "      <td>0.059473</td>\n",
       "      <td>0.049614</td>\n",
       "      <td>0.031232</td>\n",
       "      <td>0.083520</td>\n",
       "      <td>0.023912</td>\n",
       "      <td>0.029033</td>\n",
       "      <td>0.629367</td>\n",
       "      <td>0.366144</td>\n",
       "      <td>0.455937</td>\n",
       "      <td>0.503131</td>\n",
       "      <td>0.570756</td>\n",
       "      <td>0.360661</td>\n",
       "      <td>0.631476</td>\n",
       "      <td>0.498647</td>\n",
       "      <td>0.349101</td>\n",
       "      <td>0.222320</td>\n",
       "      <td>0.428646</td>\n",
       "      <td>0.325555</td>\n",
       "      <td>0.290844</td>\n",
       "      <td>0.486096</td>\n",
       "      <td>0.721471</td>\n",
       "      <td>0.474433</td>\n",
       "      <td>...</td>\n",
       "      <td>0.505727</td>\n",
       "      <td>0.398376</td>\n",
       "      <td>0.705610</td>\n",
       "      <td>0.538779</td>\n",
       "      <td>0.724928</td>\n",
       "      <td>0.320749</td>\n",
       "      <td>0.350985</td>\n",
       "      <td>0.334837</td>\n",
       "      <td>0.436381</td>\n",
       "      <td>0.368794</td>\n",
       "      <td>0.320508</td>\n",
       "      <td>0.464260</td>\n",
       "      <td>0.451066</td>\n",
       "      <td>0.565954</td>\n",
       "      <td>0.696869</td>\n",
       "      <td>0.399991</td>\n",
       "      <td>0.472920</td>\n",
       "      <td>0.354997</td>\n",
       "      <td>0.330297</td>\n",
       "      <td>0.512236</td>\n",
       "      <td>0.768805</td>\n",
       "      <td>0.560813</td>\n",
       "      <td>0.745138</td>\n",
       "      <td>0.429043</td>\n",
       "      <td>0.502471</td>\n",
       "      <td>0.341328</td>\n",
       "      <td>0.375130</td>\n",
       "      <td>0.492322</td>\n",
       "      <td>0.743830</td>\n",
       "      <td>0.464337</td>\n",
       "      <td>0.429187</td>\n",
       "      <td>0.568728</td>\n",
       "      <td>0.329063</td>\n",
       "      <td>0.481793</td>\n",
       "      <td>0.505700</td>\n",
       "      <td>0.663939</td>\n",
       "      <td>0.525252</td>\n",
       "      <td>0.520872</td>\n",
       "      <td>0.551543</td>\n",
       "      <td>0.497890</td>\n",
       "    </tr>\n",
       "  </tbody>\n",
       "</table>\n",
       "<p>5 rows × 90 columns</p>\n",
       "</div>"
      ],
      "text/plain": [
       "          1         2         3  ...        88        89        90\n",
       "0  0.860844  0.520015  0.638629  ...  0.499917  0.542475  0.459884\n",
       "1  0.837937  0.514852  0.633315  ...  0.529855  0.551845  0.495266\n",
       "2  0.880010  0.537641  0.605290  ...  0.503723  0.549798  0.455684\n",
       "3  0.828773  0.480350  0.567581  ...  0.525228  0.567246  0.483691\n",
       "4  0.880257  0.555214  0.627082  ...  0.520872  0.551543  0.497890\n",
       "\n",
       "[5 rows x 90 columns]"
      ]
     },
     "execution_count": 9,
     "metadata": {
      "tags": []
     },
     "output_type": "execute_result"
    }
   ],
   "source": [
    "X = data.iloc[:, 1:]\n",
    "Y = data.iloc[:, 0]\n",
    "X = (X - X.min()) / (X.max() - X.min())\n",
    "X.head()"
   ]
  },
  {
   "cell_type": "code",
   "execution_count": null,
   "metadata": {
    "colab": {
     "base_uri": "https://localhost:8080/"
    },
    "id": "nekP8p43-f_8",
    "outputId": "db01f680-5977-4583-ac81-234a582b137d"
   },
   "outputs": [
    {
     "data": {
      "text/plain": [
       "0    2001\n",
       "1    2001\n",
       "2    2001\n",
       "3    2001\n",
       "4    2001\n",
       "Name: 0, dtype: int64"
      ]
     },
     "execution_count": 10,
     "metadata": {
      "tags": []
     },
     "output_type": "execute_result"
    }
   ],
   "source": [
    "Y.head()"
   ]
  },
  {
   "cell_type": "markdown",
   "metadata": {
    "id": "E9Jh0piK3CzW"
   },
   "source": [
    "### Splitting the Dataset"
   ]
  },
  {
   "cell_type": "code",
   "execution_count": null,
   "metadata": {
    "colab": {
     "base_uri": "https://localhost:8080/"
    },
    "id": "jgM45ZcM3CzX",
    "outputId": "cb90f831-dffd-4544-fb80-76c0a41201b9"
   },
   "outputs": [
    {
     "name": "stdout",
     "output_type": "stream",
     "text": [
      "(40000, 90) (40000,)\n",
      "(5000, 90) (5000,)\n",
      "(5000, 90) (5000,)\n"
     ]
    }
   ],
   "source": [
    "X.shape\n",
    "\n",
    "train_end = int(len(X) * 0.8)\n",
    "dev_end = int(len(X) * 0.9)\n",
    "\n",
    "X_shuffle = X.sample(frac=1, random_state=0)\n",
    "Y_shuffle = Y.sample(frac=1, random_state=0)\n",
    "\n",
    "x_train = X_shuffle.iloc[:train_end,:]\n",
    "y_train = Y_shuffle.iloc[:train_end]\n",
    "x_dev = X_shuffle.iloc[train_end:dev_end,:]\n",
    "y_dev = Y_shuffle.iloc[train_end:dev_end]\n",
    "x_test = X_shuffle.iloc[dev_end:,:]\n",
    "y_test = Y_shuffle.iloc[dev_end:]\n",
    "\n",
    "print(x_train.shape, y_train.shape)\n",
    "print(x_dev.shape, y_dev.shape)\n",
    "print(x_test.shape, y_test.shape)"
   ]
  },
  {
   "cell_type": "code",
   "execution_count": null,
   "metadata": {
    "id": "RPGf0mRL_AQk"
   },
   "outputs": [],
   "source": []
  },
  {
   "cell_type": "markdown",
   "metadata": {
    "id": "-MiZJxrH3CzY"
   },
   "source": [
    "### Part 2: Create and Train the model"
   ]
  },
  {
   "cell_type": "markdown",
   "metadata": {
    "id": "oKXQoIOX3CzY"
   },
   "source": [
    "### import relevant modules"
   ]
  },
  {
   "cell_type": "markdown",
   "metadata": {
    "id": "3Mpx9mRn3CzZ"
   },
   "source": [
    "### Convert the DataFrames into tensors. "
   ]
  },
  {
   "cell_type": "code",
   "execution_count": null,
   "metadata": {
    "id": "oVyIGsg73CzZ"
   },
   "outputs": [],
   "source": [
    "x_train = t.tensor(x_train.values).float()\n",
    "y_train = t.tensor(y_train.values).float()\n",
    "x_dev = t.tensor(x_dev.values).float()\n",
    "y_dev = t.tensor(y_dev.values).float()\n",
    "x_test = t.tensor(x_test.values).float()\n",
    "y_test = t.tensor(y_test.values).float()"
   ]
  },
  {
   "cell_type": "code",
   "execution_count": null,
   "metadata": {
    "colab": {
     "base_uri": "https://localhost:8080/"
    },
    "id": "KDxmr6NKvew0",
    "outputId": "abfe7aae-d88b-497a-d290-ac79f48e02ca"
   },
   "outputs": [
    {
     "name": "stdout",
     "output_type": "stream",
     "text": [
      "torch.Size([40000, 90])\n",
      "torch.Size([40000])\n"
     ]
    }
   ],
   "source": [
    "print(x_train.shape)\n",
    "print(y_train.shape)"
   ]
  },
  {
   "cell_type": "code",
   "execution_count": null,
   "metadata": {
    "colab": {
     "base_uri": "https://localhost:8080/"
    },
    "id": "60kaIFm5TeX2",
    "outputId": "2cbe1f2b-4a9b-4873-a302-13cffebf6c47"
   },
   "outputs": [
    {
     "data": {
      "text/plain": [
       "90"
      ]
     },
     "execution_count": 14,
     "metadata": {
      "tags": []
     },
     "output_type": "execute_result"
    }
   ],
   "source": [
    "x_train.shape[1]"
   ]
  },
  {
   "cell_type": "markdown",
   "metadata": {
    "id": "Il9r9KlR3CzZ"
   },
   "source": [
    "### Model: Compile and fit"
   ]
  },
  {
   "cell_type": "code",
   "execution_count": null,
   "metadata": {
    "colab": {
     "base_uri": "https://localhost:8080/",
     "height": 495
    },
    "id": "IOBUxOMO3Cza",
    "outputId": "0afb24e3-7705-44e9-ea55-546692fdc580"
   },
   "outputs": [
    {
     "name": "stdout",
     "output_type": "stream",
     "text": [
      "0 3994038.75\n",
      "100 3651263.75\n",
      "200 2646766.0\n",
      "300 1414638.75\n",
      "400 508934.09375\n",
      "500 111702.671875\n",
      "600 15032.6611328125\n",
      "700 2055.36865234375\n",
      "800 1005.4210205078125\n",
      "900 946.11279296875\n",
      "Ground truth: 2005.0 Prediction: 2005.5205078125\n"
     ]
    },
    {
     "data": {
      "image/png": "[encoded data removed]",
      "text/plain": [
       "<Figure size 432x288 with 1 Axes>"
      ]
     },
     "metadata": {
      "needs_background": "light",
      "tags": []
     },
     "output_type": "display_data"
    }
   ],
   "source": [
    "# Model architecture \n",
    "model = nn.Sequential(nn.Linear(x_train.shape[1], 100),nn.Linear(100, 1))\n",
    "# Loss \n",
    "loss_function = t.nn.MSELoss()\n",
    "# Optimizer\n",
    "optimizer = t.optim.Adam(model.parameters(), lr=0.001)\n",
    "# Training\n",
    "\n",
    "EPOCHS=1000\n",
    "\n",
    "losses = []\n",
    "for i in range(EPOCHS):\n",
    "    y_pred = model(x_train).squeeze()\n",
    "    loss = loss_function(y_pred, y_train)\n",
    "    losses.append(loss.item())\n",
    "    optimizer.zero_grad()\n",
    "    loss.backward()\n",
    "    optimizer.step()\n",
    "    if i%100 == 0:\n",
    "        print(i, loss.item())\n",
    "\n",
    "\n",
    "pred = model(x_test[0])\n",
    "print(\"Ground truth:\", y_test[0].item(), \"Prediction:\",pred.item())\n",
    "\n",
    "plt.plot(range(0,1000), losses)\n",
    "plt.title('losses')\n",
    "plt.xlabel('EPOCHS')\n",
    "plt.ylabel('Loss')\n",
    "plt.show()"
   ]
  },
  {
   "cell_type": "markdown",
   "metadata": {
    "id": "cSM_4lAxICEg"
   },
   "source": [
    "# Part 3 (Optional): Implement validation and testing using the whole validation and test datasets.\n",
    "\n",
    "This part is optional, but it will useful to, at least, to try to implement, they are not difficult\n",
    "however.\n",
    "1. Implement a validation step after each training epoch, you can use the first register of the validation dataset, or the whole validation dataset.\n",
    "2. Test the model using more than a single sample from the test dataset.\n",
    "\n",
    "**Mandatory:** Think about a function that uses the gradient but it can be calculated, so how to calculate the gradient during the training process.\n",
    "\n",
    "Imagine you have the gradient descent. Imagine you cannot pass the funtion the gradient. So how to solve the problem of calculating the gradient without using the gradient descent. SO is it still possible to train the NN? Think of example of X square. There are methods without usng the function, but we need find the gradient descent without derivatives, i.e, without doing derivatives."
   ]
  },
  {
   "cell_type": "code",
   "execution_count": null,
   "metadata": {
    "colab": {
     "base_uri": "https://localhost:8080/"
    },
    "id": "mQBfnR3iKiKC",
    "outputId": "77454e62-f8c6-4965-aeba-e2cc79ac8808"
   },
   "outputs": [
    {
     "name": "stdout",
     "output_type": "stream",
     "text": [
      "tensor([[2005.5205],\n",
      "        [1979.3074],\n",
      "        [2028.5500],\n",
      "        ...,\n",
      "        [1980.4119],\n",
      "        [1962.4541],\n",
      "        [1992.7382]], grad_fn=<AddmmBackward>)\n"
     ]
    }
   ],
   "source": [
    "# Extract all predictions\n",
    "pred = model(x_test)\n",
    "print(pred)"
   ]
  },
  {
   "cell_type": "code",
   "execution_count": null,
   "metadata": {
    "colab": {
     "base_uri": "https://localhost:8080/"
    },
    "id": "_G8XZ2lOHr-L",
    "outputId": "b0bdc8c5-6369-4131-fe80-3436b2a2d5d4"
   },
   "outputs": [
    {
     "name": "stdout",
     "output_type": "stream",
     "text": [
      "Square root of MSE:  30.660170931404945\n"
     ]
    },
    {
     "name": "stderr",
     "output_type": "stream",
     "text": [
      "/usr/local/lib/python3.7/dist-packages/torch/nn/modules/loss.py:528: UserWarning: Using a target size (torch.Size([5000])) that is different to the input size (torch.Size([5000, 1])). This will likely lead to incorrect results due to broadcasting. Please ensure they have the same size.\n",
      "  return F.mse_loss(input, target, reduction=self.reduction)\n"
     ]
    }
   ],
   "source": [
    "import math\n",
    "loss = loss_function(pred,y_test).item()\n",
    "print(\"Square root of MSE: \",math.sqrt(loss))"
   ]
  },
  {
   "cell_type": "code",
   "execution_count": null,
   "metadata": {
    "colab": {
     "base_uri": "https://localhost:8080/"
    },
    "id": "83LamtqyIB9D",
    "outputId": "3ae4bcc8-ecad-4f90-bdb0-fa23b0336b2d"
   },
   "outputs": [
    {
     "name": "stdout",
     "output_type": "stream",
     "text": [
      "Avg of absolute error of test:  23.342870712280273\n"
     ]
    },
    {
     "name": "stderr",
     "output_type": "stream",
     "text": [
      "/usr/local/lib/python3.7/dist-packages/torch/nn/modules/loss.py:96: UserWarning: Using a target size (torch.Size([5000])) that is different to the input size (torch.Size([5000, 1])). This will likely lead to incorrect results due to broadcasting. Please ensure they have the same size.\n",
      "  return F.l1_loss(input, target, reduction=self.reduction)\n"
     ]
    }
   ],
   "source": [
    "abs_loss = nn.L1Loss()\n",
    "loss  = abs_loss(pred, y_test).item() \n",
    "print(\"Avg of absolute error of test: \", loss)"
   ]
  },
  {
   "cell_type": "code",
   "execution_count": null,
   "metadata": {
    "colab": {
     "base_uri": "https://localhost:8080/"
    },
    "id": "bp9BB8WEIFyK",
    "outputId": "80ec93f1-5e55-46b4-e666-08d5e59f2fd8"
   },
   "outputs": [
    {
     "data": {
      "text/plain": [
       "940.7669028933734"
      ]
     },
     "execution_count": 26,
     "metadata": {
      "tags": []
     },
     "output_type": "execute_result"
    }
   ],
   "source": [
    "# MSE \n",
    "from sklearn.metrics import mean_squared_error\n",
    "\n",
    "pred = pd.DataFrame(pred)\n",
    "labels = pd.DataFrame(y_test)\n",
    "mean_squared_error(labels, pred)"
   ]
  },
  {
   "cell_type": "markdown",
   "metadata": {
    "id": "u27RKTgAIcAg"
   },
   "source": [
    "# Validation loss by epochs"
   ]
  },
  {
   "cell_type": "code",
   "execution_count": null,
   "metadata": {
    "colab": {
     "base_uri": "https://localhost:8080/",
     "height": 1000
    },
    "id": "DbTYI2o6ClcZ",
    "outputId": "770172cb-a2f7-4a93-d106-82d50d2d571e"
   },
   "outputs": [
    {
     "name": "stderr",
     "output_type": "stream",
     "text": [
      "/usr/local/lib/python3.7/dist-packages/torch/nn/modules/loss.py:528: UserWarning: Using a target size (torch.Size([40000])) that is different to the input size (torch.Size([40000, 1])). This will likely lead to incorrect results due to broadcasting. Please ensure they have the same size.\n",
      "  return F.mse_loss(input, target, reduction=self.reduction)\n"
     ]
    },
    {
     "name": "stdout",
     "output_type": "stream",
     "text": [
      "training: \n",
      "0 3993796.75\n",
      "training: \n",
      "100 3651965.0\n",
      "training: \n",
      "200 2646987.5\n",
      "training: \n",
      "300 1414304.5\n",
      "training: \n",
      "400 508555.84375\n",
      "training: \n",
      "500 111535.5859375\n",
      "training: \n",
      "600 14994.9248046875\n",
      "training: \n",
      "700 2047.8155517578125\n",
      "training: \n",
      "800 1001.3643798828125\n",
      "training: \n",
      "900 942.21923828125\n"
     ]
    },
    {
     "name": "stderr",
     "output_type": "stream",
     "text": [
      "/usr/local/lib/python3.7/dist-packages/torch/nn/modules/loss.py:528: UserWarning: Using a target size (torch.Size([5000])) that is different to the input size (torch.Size([5000, 1])). This will likely lead to incorrect results due to broadcasting. Please ensure they have the same size.\n",
      "  return F.mse_loss(input, target, reduction=self.reduction)\n"
     ]
    },
    {
     "name": "stdout",
     "output_type": "stream",
     "text": [
      "val: \n",
      "0 924.1326904296875\n",
      "val: \n",
      "100 918.7447509765625\n",
      "val: \n",
      "200 914.0256958007812\n",
      "val: \n",
      "300 909.0357055664062\n",
      "val: \n",
      "400 903.7448120117188\n",
      "val: \n",
      "500 898.1561279296875\n",
      "val: \n",
      "600 892.26904296875\n",
      "val: \n",
      "700 886.0803833007812\n",
      "val: \n",
      "800 879.5925903320312\n",
      "val: \n",
      "900 872.8035888671875\n"
     ]
    },
    {
     "data": {
      "image/png": "[encoded data removed]",
      "text/plain": [
       "<Figure size 432x288 with 1 Axes>"
      ]
     },
     "metadata": {
      "needs_background": "light",
      "tags": []
     },
     "output_type": "display_data"
    },
    {
     "data": {
      "image/png": "[encoded data removed]",
      "text/plain": [
       "<Figure size 720x432 with 1 Axes>"
      ]
     },
     "metadata": {
      "needs_background": "light",
      "tags": []
     },
     "output_type": "display_data"
    }
   ],
   "source": [
    "# Model \n",
    "'''\n",
    "model = nn.Sequential(nn.Linear(x_train.shape[1], 100), \\\n",
    "nn.ReLU(), \\\n",
    "nn.Linear(100, 50), \\\n",
    "nn.ReLU(), \\\n",
    "nn.Linear(50, 25), \\\n",
    "nn.ReLU(), \\\n",
    "nn.Linear(25, 1))\n",
    "'''\n",
    "model = nn.Sequential(nn.Linear(x_train.shape[1], 100),nn.Linear(100, 1))\n",
    "# Loss \n",
    "loss_function = t.nn.MSELoss()\n",
    "# Optimizer\n",
    "optimizer = t.optim.Adam(model.parameters(), lr=0.001)\n",
    "\n",
    "# Validation\n",
    "\n",
    "EPOCHS=1000\n",
    "# Training\n",
    "\n",
    "\n",
    "losses_val = []\n",
    "losses_train = []\n",
    "for i in range(EPOCHS):\n",
    "\n",
    "    # clear previous gradient computation\n",
    "    optimizer.zero_grad()\n",
    "\n",
    "    # forward propagation\n",
    "    y_pred = model(x_train)\n",
    "\n",
    "    # calculate the loss\n",
    "    loss = loss_function(y_pred, y_train)\n",
    "    # update average loss\n",
    "    losses_train.append(loss.item())\n",
    "\n",
    "    # backpropagate to compute gradients\n",
    "    loss.backward()\n",
    "\n",
    "    # update model weights\n",
    "    optimizer.step()\n",
    "    if i%100 == 0:\n",
    "        print(\"training: \")\n",
    "        print(i, loss.item())\n",
    "\n",
    "# validation\n",
    "for i in range(EPOCHS):\n",
    "    # clear previous gradient computation\n",
    "    optimizer.zero_grad()\n",
    "\n",
    "    # forward propagation\n",
    "    y_pred_val = model(x_dev)\n",
    "\n",
    "    # calculate the loss\n",
    "    loss = loss_function(y_pred_val, y_dev)\n",
    "\n",
    "    # update average loss\n",
    "    losses_val.append(loss.item())\n",
    "    \n",
    "    loss.backward()\n",
    "    # update model weights\n",
    "    optimizer.step()\n",
    "    if i%100 == 0:\n",
    "      print(\"val: \")\n",
    "      print(i, loss.item())\n",
    "\n",
    "#pred = model(x_test[0])\n",
    "#print(\"Ground truth:\", y_test[0].item(), \"Prediction:\",pred.item())\n",
    "\n",
    "plt.plot(range(0,1000), losses)\n",
    "plt.title('losses over validation set')\n",
    "plt.xlabel('EPOCHS')\n",
    "plt.ylabel('Loss')\n",
    "plt.show()\n",
    "plt.show()\n",
    "#Substract the prediction form real target, calculate abs val, \n",
    "\n",
    "\n",
    "plt.figure(figsize=(10,6))\n",
    "plt.plot(losses_train, '-o', label='Training loss')\n",
    "plt.plot(losses_val, '-o', label='Validation loss')\n",
    "plt.legend()\n",
    "plt.title('Learning curves in Training and validation stage')\n",
    "plt.xlabel('Epoch')\n",
    "plt.ylabel('Loss')\n",
    "plt.show()"
   ]
  },
  {
   "cell_type": "code",
   "execution_count": null,
   "metadata": {
    "colab": {
     "base_uri": "https://localhost:8080/"
    },
    "id": "kGEjbgqKWZpa",
    "outputId": "16766259-6ca8-4e0f-f0d7-001f3666466b"
   },
   "outputs": [
    {
     "name": "stderr",
     "output_type": "stream",
     "text": [
      "/usr/local/lib/python3.7/dist-packages/torch/nn/modules/loss.py:528: UserWarning: Using a target size (torch.Size([5000])) that is different to the input size (torch.Size([5000, 1])). This will likely lead to incorrect results due to broadcasting. Please ensure they have the same size.\n",
      "  return F.mse_loss(input, target, reduction=self.reduction)\n"
     ]
    },
    {
     "name": "stdout",
     "output_type": "stream",
     "text": [
      "val: \n",
      "0 923.8046875\n",
      "val: \n",
      "100 919.3480834960938\n",
      "val: \n",
      "200 914.6468505859375\n",
      "val: \n",
      "300 909.6446533203125\n",
      "val: \n",
      "400 904.3450317382812\n",
      "val: \n",
      "500 898.7448120117188\n",
      "val: \n",
      "600 892.8479614257812\n",
      "val: \n",
      "700 886.6480712890625\n",
      "val: \n",
      "800 880.1478271484375\n",
      "val: \n",
      "900 873.349853515625\n"
     ]
    }
   ],
   "source": [
    "# Training\n",
    "\n",
    "EPOCHS=1000\n",
    "\n",
    "losses_val = []\n",
    "losses_train = []\n",
    "for i in range(EPOCHS):\n",
    "\n",
    "    # clear previous gradient computation\n",
    "    optimizer.zero_grad()\n",
    "\n",
    "    # forward propagation\n",
    "    y_pred = model(x_train)\n",
    "\n",
    "    # calculate the loss\n",
    "    loss = loss_function(y_pred, y_train)\n",
    "    # update average loss\n",
    "    losses_train.append(loss.item())\n",
    "\n",
    "    # backpropagate to compute gradients\n",
    "    loss.backward()\n",
    "\n",
    "    # update model weights\n",
    "    optimizer.step()\n",
    "    if i%100 == 0:\n",
    "        print(\"training: \")\n",
    "        print(i, loss.item())\n",
    "\n",
    "# validation\n",
    "for i in range(EPOCHS):\n",
    "    # clear previous gradient computation\n",
    "    optimizer.zero_grad()\n",
    "\n",
    "    # forward propagation\n",
    "    y_pred_val = model(x_dev)\n",
    "\n",
    "    # calculate the loss\n",
    "    loss = loss_function(y_pred_val, y_dev)\n",
    "\n",
    "    # update average loss\n",
    "    losses_val.append(loss.item())\n",
    "    \n",
    "    loss.backward()\n",
    "    # update model weights\n",
    "    optimizer.step()\n",
    "    if i%100 == 0:\n",
    "      print(\"val: \")\n",
    "      print(i, loss.item())\n",
    "\n",
    "\n",
    "\n",
    "#pred = model(x_test[0])\n",
    "#print(\"Ground truth:\", y_test[0].item(), \"Prediction:\",pred.item())\n",
    "\n"
   ]
  },
  {
   "cell_type": "code",
   "execution_count": null,
   "metadata": {
    "colab": {
     "base_uri": "https://localhost:8080/",
     "height": 404
    },
    "id": "6S4BV0hFViRz",
    "outputId": "dbc159d4-0dd0-4b70-bf5c-b4492895da03"
   },
   "outputs": [
    {
     "data": {
      "image/png": "[encoded data removed]",
      "text/plain": [
       "<Figure size 720x432 with 1 Axes>"
      ]
     },
     "metadata": {
      "needs_background": "light",
      "tags": []
     },
     "output_type": "display_data"
    }
   ],
   "source": []
  }
 ],
 "metadata": {
  "accelerator": "GPU",
  "colab": {
   "collapsed_sections": [
    "234Gq4Nt3CzQ"
   ],
   "name": "Miniproject II Guess the year-Hussen_Mohamed_Sebastian_Cajas.ipynb",
   "provenance": [],
   "toc_visible": true
  },
  "kernelspec": {
   "display_name": "Python 3",
   "language": "python",
   "name": "python3"
  },
  "language_info": {
   "codemirror_mode": {
    "name": "ipython",
    "version": 3
   },
   "file_extension": ".py",
   "mimetype": "text/x-python",
   "name": "python",
   "nbconvert_exporter": "python",
   "pygments_lexer": "ipython3",
   "version": "3.8.3"
  }
 },
 "nbformat": 4,
 "nbformat_minor": 1
}
